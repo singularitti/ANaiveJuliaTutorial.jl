{
 "cells": [
  {
   "cell_type": "markdown",
   "metadata": {},
   "source": [
    "# A general review of Julia"
   ]
  },
  {
   "cell_type": "markdown",
   "metadata": {},
   "source": [
    "## FAQ"
   ]
  },
  {
   "attachments": {},
   "cell_type": "markdown",
   "metadata": {},
   "source": [
    "1. Is Julia a compiled or interpreted language?[^1]\n",
    "\n",
    "Both, in a way. It is a dynamic language, but JIT compiled.\n",
    "\n",
    "![ref 1 talk](./assets/JIT.png)\n",
    "\n",
    "2. Why can't we just make MATLAB, Python, R, etc., faster?[^1]\n",
    "\n",
    "Others have tried, with limited success. These languages have features that are hard for compilers to understand."
   ]
  },
  {
   "cell_type": "markdown",
   "metadata": {},
   "source": [
    "## References\n",
    "1. [Jiahao Chen: Why language matters: Julia and multiple dispatch](https://www.youtube.com/watch?v=gZJFHrYopxw&list=PLlHZu1B49BRZwwZ6eFUxa5q0AUikqrF8V)"
   ]
  },
  {
   "cell_type": "code",
   "execution_count": null,
   "metadata": {},
   "outputs": [],
   "source": []
  }
 ],
 "metadata": {
  "kernelspec": {
   "display_name": "Julia 1.2.0",
   "language": "julia",
   "name": "julia-1.2"
  },
  "language_info": {
   "file_extension": ".jl",
   "mimetype": "application/julia",
   "name": "julia",
   "version": "1.2.0"
  }
 },
 "nbformat": 4,
 "nbformat_minor": 2
}
