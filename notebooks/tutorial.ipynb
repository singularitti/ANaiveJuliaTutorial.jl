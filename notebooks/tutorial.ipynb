{
 "cells": [
  {
   "cell_type": "markdown",
   "metadata": {
    "toc": true
   },
   "source": [
    "<h1>Table of Contents<span class=\"tocSkip\"></span></h1>\n",
    "<div class=\"toc\"><ul class=\"toc-item\"><li><span><a href=\"#Julia-version\" data-toc-modified-id=\"Julia-version-1\"><span class=\"toc-item-num\">1&nbsp;&nbsp;</span>Julia version</a></span><ul class=\"toc-item\"><li><span><a href=\"#Lambda-expression-(匿名函数)\" data-toc-modified-id=\"Lambda-expression-(匿名函数)-1.1\"><span class=\"toc-item-num\">1.1&nbsp;&nbsp;</span>Lambda-expression (匿名函数)</a></span></li><li><span><a href=\"#Style-guide\" data-toc-modified-id=\"Style-guide-1.2\"><span class=\"toc-item-num\">1.2&nbsp;&nbsp;</span>Style guide</a></span><ul class=\"toc-item\"><li><span><a href=\"#Writing-type-stable-code-in-julia\" data-toc-modified-id=\"Writing-type-stable-code-in-julia-1.2.1\"><span class=\"toc-item-num\">1.2.1&nbsp;&nbsp;</span>Writing type-stable code in julia</a></span></li></ul></li></ul></li></ul></div>"
   ]
  },
  {
   "cell_type": "markdown",
   "metadata": {},
   "source": [
    "# Julia version"
   ]
  },
  {
   "cell_type": "markdown",
   "metadata": {},
   "source": [
    "## Julia should be slow?\n",
    "\n",
    "- You could always write untyped code\n",
    "- `eval` could load any piece of code into runtime\n",
    "- A lot of reflections: `typeof`, `methods`, `names`"
   ]
  },
  {
   "cell_type": "markdown",
   "metadata": {},
   "source": [
    "## But why Julia is fast?\n",
    "\n",
    "- Design of the language: avoid things that are unoptimizable\n",
    "- The implementation leverages the choices of the design\n",
    "- Programming practice\n",
    "\n",
    "### Design of the language\n",
    "\n",
    "#### Dynamism in balance\n",
    "\n",
    "- `eval` is used only global scope\n",
    "- syntactic macros\n",
    "- \"world age\" mechanism"
   ]
  },
  {
   "cell_type": "markdown",
   "metadata": {},
   "source": [
    "## Lambda-expression (匿名函数)\n",
    "\n",
    "A _lambda-expression_ can also be considered as the name of a _function_. If `double` is a proper name, like “Michelangelo,” then `x -> x * 2` is a deﬁnite description, like “the man who painted the ceiling of the Sistine Chapel.”"
   ]
  },
  {
   "cell_type": "code",
   "execution_count": 1,
   "metadata": {},
   "outputs": [],
   "source": [
    "function f1(x)\n",
    "    x * 2\n",
    "end\n",
    "\n",
    "f2(x) = x * 2\n",
    "\n",
    "f3 = x -> x * 2;  # A symbol `f3` bound to a function"
   ]
  },
  {
   "cell_type": "markdown",
   "metadata": {},
   "source": [
    "Lambda-expression 告诉我们什么才是一个函数的核心：这个函数所描述的关系或者变化，而不是它的名字。上面三个表达式都可以被抽象出一个公共部分：`x -> x * 2`, 这才是这个函数的核心。"
   ]
  },
  {
   "cell_type": "markdown",
   "metadata": {},
   "source": [
    "## Style guide"
   ]
  },
  {
   "cell_type": "markdown",
   "metadata": {},
   "source": [
    "Please refer [YASGuide - Yet Another Style Guide For Julia](https://github.com/jrevels/YASGuide) and [JuMP Style Guide](http://www.juliaopt.org/JuMP.jl/latest/style.html)."
   ]
  },
  {
   "cell_type": "code",
   "execution_count": 1,
   "metadata": {},
   "outputs": [
    {
     "name": "stdout",
     "output_type": "stream",
     "text": [
      "  0.321272 seconds (1.09 M allocations: 59.300 MiB, 5.30% gc time)\n",
      "  0.000023 seconds (7 allocations: 208 bytes)\n",
      "  0.005106 seconds (19.42 k allocations: 1.066 MiB)\n",
      "  0.000063 seconds (7 allocations: 208 bytes)\n",
      "  0.005170 seconds (19.45 k allocations: 1.079 MiB)\n",
      "  0.000001 seconds (4 allocations: 160 bytes)\n",
      "  0.000001 seconds (4 allocations: 160 bytes)\n",
      "  0.000001 seconds (4 allocations: 160 bytes)\n"
     ]
    },
    {
     "data": {
      "text/plain": [
       "-2.11664381355344e63"
      ]
     },
     "execution_count": 1,
     "metadata": {},
     "output_type": "execute_result"
    }
   ],
   "source": [
    "finite_strain_at(::Val{N}, v0::Float64, v::Float64) where {N} = -(3 * N + 2) / (3 * v) * finite_strain_at(Val(N - 1), v0, v)\n",
    "finite_strain_at(::Val{1}, v0::Float64, v::Float64) = -1 / 3 / v * (v0 / v)^(2 / 3)\n",
    "finite_strain_at(m::Int, v0::Float64, v::Float64) = finite_strain_at(Val(m), v0, v)\n",
    "\n",
    "@time (finite_strain_at(100, 1.0, 9.0))\n",
    "@time (finite_strain_at(100, 1.0, 9.0))\n",
    "@time (finite_strain_at(101, 1.0, 9.0))\n",
    "@time (finite_strain_at(101, 1.0, 9.0))\n",
    "\n",
    "function finite_strain_at2(m::Int, reference_volume::Float64, v::Float64)\n",
    "    m == 1 && return -(1 / 3 / v) * (reference_volume / v)\n",
    "    -(3 * m + 2) / (3 * v) * finite_strain_at2(m - 1, reference_volume, v)\n",
    "end\n",
    "\n",
    "@time (finite_strain_at2(100, 1.0, 9.0))\n",
    "@time (finite_strain_at2(100, 1.0, 9.0))\n",
    "@time (finite_strain_at2(101, 1.0, 9.0))\n",
    "@time (finite_strain_at2(101, 1.0, 9.0))"
   ]
  },
  {
   "cell_type": "markdown",
   "metadata": {},
   "source": [
    "### Writing type-stable code in julia\n",
    "\n",
    "- If the return type can decided at compile time then it will be a *type stable*, i.e. if the return type is decided only by the types of the input[1]\n",
    "- If the return type can’t decided until run time then it will be a *type unstable*, i.e. if the return type is decided by the values of the input, or by external factors[1]\n",
    "\n",
    "Equivalently, a code is said to be *type-stable* if the type of every variable does not vary over time."
   ]
  },
  {
   "cell_type": "code",
   "execution_count": 2,
   "metadata": {},
   "outputs": [
    {
     "data": {
      "text/plain": [
       "sumofsins2 (generic function with 1 method)"
      ]
     },
     "execution_count": 2,
     "metadata": {},
     "output_type": "execute_result"
    }
   ],
   "source": [
    "function sumofsins1(n::Int)  # type-unstable function\n",
    "    r = 0  \n",
    "    for i in 1:n\n",
    "        r += sin(3.4)  \n",
    "    end  \n",
    "    return r  \n",
    "end  \n",
    "\n",
    "function sumofsins2(n::Int)  # type-stable function\n",
    "    r = 0.0\n",
    "    for i in 1:n\n",
    "        r += sin(3.4)\n",
    "    end  \n",
    "    return r\n",
    "end"
   ]
  },
  {
   "cell_type": "code",
   "execution_count": 3,
   "metadata": {},
   "outputs": [
    {
     "name": "stdout",
     "output_type": "stream",
     "text": [
      "  0.193035 seconds (302.06 k allocations: 15.074 MiB, 5.10% gc time)\n",
      "  0.085354 seconds (122.84 k allocations: 6.347 MiB)\n"
     ]
    }
   ],
   "source": [
    "sumofsins1(100000)\n",
    "sumofsins2(100000)\n",
    "\n",
    "@time [sumofsins1(100000) for i in 1:100];\n",
    "@time [sumofsins2(100000) for i in 1:100];"
   ]
  },
  {
   "cell_type": "markdown",
   "metadata": {},
   "source": [
    "## OOP"
   ]
  },
  {
   "cell_type": "code",
   "execution_count": 2,
   "metadata": {},
   "outputs": [],
   "source": [
    "struct Person{tag}\n",
    "    name::String\n",
    "    age::Int\n",
    "    project::String\n",
    "end"
   ]
  },
  {
   "cell_type": "code",
   "execution_count": 3,
   "metadata": {},
   "outputs": [],
   "source": [
    "const Professor = Person{:professor}\n",
    "const PhD = Person{:phd}\n",
    "const Master = Person{:master};"
   ]
  },
  {
   "cell_type": "code",
   "execution_count": 4,
   "metadata": {},
   "outputs": [],
   "source": [
    "prof = Professor(\"Somebody\", 60, \"many\")\n",
    "master = Master(\"Maria\", 25, \"great\");"
   ]
  },
  {
   "cell_type": "code",
   "execution_count": 6,
   "metadata": {},
   "outputs": [],
   "source": [
    "name(p::Person) = p.name\n",
    "age(p::Person) = p.age\n",
    "project(p::Person) = p.project;"
   ]
  },
  {
   "cell_type": "code",
   "execution_count": 7,
   "metadata": {},
   "outputs": [
    {
     "data": {
      "text/plain": [
       "\"great\""
      ]
     },
     "execution_count": 7,
     "metadata": {},
     "output_type": "execute_result"
    }
   ],
   "source": [
    "project(master)"
   ]
  },
  {
   "cell_type": "code",
   "execution_count": null,
   "metadata": {},
   "outputs": [],
   "source": []
  },
  {
   "cell_type": "markdown",
   "metadata": {},
   "source": [
    "## References\n",
    "1. [Julia Nomenclature](https://white.ucc.asn.au/2019/04/03/Julia-Nomenclature.html)"
   ]
  },
  {
   "cell_type": "code",
   "execution_count": null,
   "metadata": {},
   "outputs": [],
   "source": []
  }
 ],
 "metadata": {
  "kernelspec": {
   "display_name": "Julia 1.3.0-alpha",
   "language": "julia",
   "name": "julia-1.3"
  },
  "language_info": {
   "file_extension": ".jl",
   "mimetype": "application/julia",
   "name": "julia",
   "version": "1.3.0"
  },
  "toc": {
   "base_numbering": 1,
   "nav_menu": {},
   "number_sections": true,
   "sideBar": true,
   "skip_h1_title": false,
   "title_cell": "Table of Contents",
   "title_sidebar": "Contents",
   "toc_cell": true,
   "toc_position": {},
   "toc_section_display": true,
   "toc_window_display": false
  },
  "varInspector": {
   "cols": {
    "lenName": 16,
    "lenType": 16,
    "lenVar": 40
   },
   "kernels_config": {
    "python": {
     "delete_cmd_postfix": "",
     "delete_cmd_prefix": "del ",
     "library": "var_list.py",
     "varRefreshCmd": "print(var_dic_list())"
    },
    "r": {
     "delete_cmd_postfix": ") ",
     "delete_cmd_prefix": "rm(",
     "library": "var_list.r",
     "varRefreshCmd": "cat(var_dic_list()) "
    }
   },
   "types_to_exclude": [
    "module",
    "function",
    "builtin_function_or_method",
    "instance",
    "_Feature"
   ],
   "window_display": false
  }
 },
 "nbformat": 4,
 "nbformat_minor": 2
}
